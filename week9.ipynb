{
 "cells": [
  {
   "cell_type": "code",
   "execution_count": 8,
   "id": "769b2585",
   "metadata": {},
   "outputs": [
    {
     "data": {
      "text/plain": [
       "(7, 36)"
      ]
     },
     "execution_count": 8,
     "metadata": {},
     "output_type": "execute_result"
    }
   ],
   "source": [
    "a=456\n",
    "hour=int(a/60)\n",
    "\n",
    "minute=a%60\n",
    "hour,minute"
   ]
  },
  {
   "cell_type": "code",
   "execution_count": 29,
   "id": "dd23c270",
   "metadata": {},
   "outputs": [
    {
     "data": {
      "text/plain": [
       "('김철수', 2.8)"
      ]
     },
     "execution_count": 29,
     "metadata": {},
     "output_type": "execute_result"
    }
   ],
   "source": [
    "d=dict(홍길동=3.4,임꺽정=4.0,김철수=2.8,이영희=3.9)\n",
    "name=d.keys()\n",
    "name_list=list(name)\n",
    "for i in range(0,3):\n",
    "    name_list[i]<name_list[i+1]\n",
    "    fastN=name_list[i]\n",
    "fastN,d.get(fastN)\n",
    "\n",
    "\n",
    "    \n",
    "   "
   ]
  },
  {
   "cell_type": "code",
   "execution_count": null,
   "id": "24d11ea2",
   "metadata": {},
   "outputs": [],
   "source": []
  },
  {
   "cell_type": "code",
   "execution_count": null,
   "id": "452916ff",
   "metadata": {},
   "outputs": [],
   "source": []
  }
 ],
 "metadata": {
  "kernelspec": {
   "display_name": "Python 3 (ipykernel)",
   "language": "python",
   "name": "python3"
  },
  "language_info": {
   "codemirror_mode": {
    "name": "ipython",
    "version": 3
   },
   "file_extension": ".py",
   "mimetype": "text/x-python",
   "name": "python",
   "nbconvert_exporter": "python",
   "pygments_lexer": "ipython3",
   "version": "3.10.4"
  }
 },
 "nbformat": 4,
 "nbformat_minor": 5
}
