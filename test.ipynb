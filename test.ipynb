{
 "cells": [
  {
   "cell_type": "code",
   "execution_count": 11,
   "id": "481ddf72",
   "metadata": {},
   "outputs": [
    {
     "name": "stdout",
     "output_type": "stream",
     "text": [
      "-F C:\\USERS\\USER\\APPDATA\\ROAMING\\JUPYTER\\RUNTIME\\KERNEL-C88C5961-C88B-4B65-B120-D110603FA65C.JSON\n"
     ]
    }
   ],
   "source": [
    "class Calc:\n",
    "    \n",
    "    my_name=\"i'm calc module\"\n",
    "    def __init__(self,scale=1):\n",
    "        self.scale = scale\n",
    "         \n",
    "        \n",
    "    "
   ]
  },
  {
   "cell_type": "code",
   "execution_count": null,
   "id": "7453e7a4",
   "metadata": {},
   "outputs": [],
   "source": [
    "\n",
    "file1=open(f1,'r')\n",
    "data=file1.readlines()\n",
    "file1.close()\n",
    "file2=open(f2,'a')\n",
    "file2.write(data)\n",
    "file2.close()\n"
   ]
  },
  {
   "cell_type": "code",
   "execution_count": null,
   "id": "6503f764",
   "metadata": {},
   "outputs": [],
   "source": []
  }
 ],
 "metadata": {
  "kernelspec": {
   "display_name": "Python 3 (ipykernel)",
   "language": "python",
   "name": "python3"
  },
  "language_info": {
   "codemirror_mode": {
    "name": "ipython",
    "version": 3
   },
   "file_extension": ".py",
   "mimetype": "text/x-python",
   "name": "python",
   "nbconvert_exporter": "python",
   "pygments_lexer": "ipython3",
   "version": "3.9.7"
  }
 },
 "nbformat": 4,
 "nbformat_minor": 5
}
