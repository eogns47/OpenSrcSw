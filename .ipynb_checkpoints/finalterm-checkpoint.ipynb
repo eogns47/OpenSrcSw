{
 "cells": [
  {
   "cell_type": "code",
   "execution_count": null,
   "id": "073a17c2",
   "metadata": {},
   "outputs": [],
   "source": [
    "import csv\n",
    "import pandas as pd\n",
    "import matplotlib.pyplot as plt\n",
    "\n",
    "f=open('country_vaccinations.csv','r')\n",
    "data=csv.reader(f)\n",
    "next(data)\n",
    "next(data)\n",
    "mx=0\n",
    "mxdate=''\n",
    "mndate=''\n",
    "vacname=''\n",
    "ctname=''\n",
    "dic={}\n",
    "mn=999999\n",
    "for row in data:\n",
    "    if row[7]!='':\n",
    "        vac=round(float(row[7]))\n",
    "    date=row[2]\n",
    "    if vac>mx:\n",
    "        mx=vac\n",
    "        mxdate=date\n",
    "    if vac<mn:\n",
    "        mn=vac\n",
    "        mndate=date\n",
    "    vacs=row[12].split(',')\n",
    "    if row[0]!=ctname:\n",
    "        for i in vacs:\n",
    "            if i in dic:\n",
    "                dic[i]+=1\n",
    "            else:\n",
    "                dic[i]=1\n",
    "        ctname=row[0]\n",
    "print(mx,mn,\"가장 많이 접종한날=\",mxdate,mndate)\n",
    "\n",
    "dt=pd.DataFrame(dic.values(),index=dic.keys(),columns=[\"접종 국가수\"])\n",
    "\n",
    "display(dt)\n",
    "\n",
    "#if(dic.values<10):\n",
    "\n",
    "\n"
   ]
  }
 ],
 "metadata": {
  "kernelspec": {
   "display_name": "Python 3 (ipykernel)",
   "language": "python",
   "name": "python3"
  },
  "language_info": {
   "codemirror_mode": {
    "name": "ipython",
    "version": 3
   },
   "file_extension": ".py",
   "mimetype": "text/x-python",
   "name": "python",
   "nbconvert_exporter": "python",
   "pygments_lexer": "ipython3",
   "version": "3.9.7"
  }
 },
 "nbformat": 4,
 "nbformat_minor": 5
}
