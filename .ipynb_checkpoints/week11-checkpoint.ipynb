{
 "cells": [
  {
   "cell_type": "code",
   "execution_count": 46,
   "id": "3bd3ddbf",
   "metadata": {},
   "outputs": [
    {
     "name": "stdout",
     "output_type": "stream",
     "text": [
      "{'파이썬': 2, '파일': 2, '읽기': 2, '예제입니다.': 2, '다양한': 1, '메소드를': 1, '공부해': 1, '보세요.': 1, '실력이': 1, '팍팍': 1, '늘': 1, '거에요~': 1, '단어': 1, '수를': 1, '카운트하는': 1, '실습': 1}\n"
     ]
    }
   ],
   "source": [
    "f=open(\"readme.txt\",'r',encoding=\"cp949\")\n",
    "\n",
    "dic={}\n",
    "while(\"true\"):\n",
    "    line=f.readline()\n",
    "    if not line:\n",
    "        break\n",
    "    line=line.strip()\n",
    "    a=line.split(\" \")\n",
    "    for i in a:\n",
    "        if i in dic:\n",
    "            dic[i]+=1\n",
    "        else:\n",
    "            dic[i]=1\n",
    "print(dic)\n",
    "    \n",
    "    "
   ]
  },
  {
   "cell_type": "code",
   "execution_count": 40,
   "id": "456c7144",
   "metadata": {},
   "outputs": [
    {
     "name": "stdout",
     "output_type": "stream",
     "text": [
      "(2,3)\n",
      "(3,5)\n",
      "leftTop=(2,3)\n",
      "rightBot=(3,5)\n",
      "각 포인트를 (3,5)만큼 이동시킵니다.\n",
      "leftTop=(5,8)\n",
      "rightBot=(6,10)\n"
     ]
    }
   ],
   "source": [
    "class Point:\n",
    "    x=0\n",
    "    y=0\n",
    "    def __init__(self,x,y):\n",
    "        self.x=x\n",
    "        self.y=y\n",
    "    def move(self,dx,dy):\n",
    "        self.x+=dx\n",
    "        self.y+=dy\n",
    "    def show(self):\n",
    "        print(\"({0:d},{1:d})\".format(self.x,self.y))\n",
    "\n",
    "class Box(Point):\n",
    "\n",
    "    def __init__(self,p1,p2):\n",
    "        self.p1=p1\n",
    "        self.p2=p2\n",
    "    def move(self,dx,dy):\n",
    "        print(\"각 포인트를 ({0:d},{1:d})만큼 이동시킵니다.\".format(dx,dy))\n",
    "        self.p1.move(dx,dy)       \n",
    "        self.p2.move(dx,dy)\n",
    "    def show(self):\n",
    "        print(\"leftTop=({0:d},{1:d})\\nrightBot=({2:d},{3:d})\".format(self.p1.x,self.p1.y,self.p2.x,self.p2.y))\n",
    "        \n",
    "p1=Point(2,3)\n",
    "p2=Point(3,5)\n",
    "p1.show()\n",
    "p2.show()\n",
    "p3=Box(p1,p2)\n",
    "p3.show()\n",
    "p3.move(3,5)\n",
    "p3.show()\n"
   ]
  },
  {
   "cell_type": "code",
   "execution_count": null,
   "id": "94df7d3f",
   "metadata": {},
   "outputs": [],
   "source": []
  }
 ],
 "metadata": {
  "kernelspec": {
   "display_name": "Python 3 (ipykernel)",
   "language": "python",
   "name": "python3"
  },
  "language_info": {
   "codemirror_mode": {
    "name": "ipython",
    "version": 3
   },
   "file_extension": ".py",
   "mimetype": "text/x-python",
   "name": "python",
   "nbconvert_exporter": "python",
   "pygments_lexer": "ipython3",
   "version": "3.9.7"
  }
 },
 "nbformat": 4,
 "nbformat_minor": 5
}
