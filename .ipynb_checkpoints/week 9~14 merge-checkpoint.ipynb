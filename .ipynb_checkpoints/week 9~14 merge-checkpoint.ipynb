{
 "cells": [
  {
   "cell_type": "code",
   "execution_count": null,
   "id": "bdb4dd32",
   "metadata": {},
   "outputs": [],
   "source": [
    "import math\n",
    "time=456\n",
    "h=math.floor(time/60)\n",
    "m=time%60\n",
    "\n",
    "\n",
    "h,m"
   ]
  },
  {
   "cell_type": "code",
   "execution_count": null,
   "id": "9e920dd0",
   "metadata": {},
   "outputs": [],
   "source": [
    "d={'홍길동':3.4,'임꺽정':4.0,'김철수':2.8,'이영희':3.9}\n",
    "mn=list(d.keys())[0]\n",
    "for i in d:\n",
    "    print(mn)\n",
    "    if(i<mn):\n",
    "        mn=i\n",
    "print(mn,d[mn])"
   ]
  },
  {
   "cell_type": "code",
   "execution_count": null,
   "id": "c412a3da",
   "metadata": {},
   "outputs": [],
   "source": [
    "text=\"\"\"  죽는 날까지 하늘을 우러러\n",
    "한 점 부끄럼이 없기를,\n",
    "잎새에 이는 바람에도\n",
    "나는 괴로워했다.\n",
    "별을 노래하는 마음으로\n",
    "모든 죽어가는 것을 사랑해야지\n",
    "그리고 나한테 주어진 길을\n",
    "걸어가야겠다.\n",
    "오늘 밤에도 별이 바람에 스치운다.   \"\"\"\n",
    "text=text.strip()\n",
    "text=text.replace('나','너')\n",
    "print(text)"
   ]
  },
  {
   "cell_type": "code",
   "execution_count": null,
   "id": "68dd0b71",
   "metadata": {},
   "outputs": [],
   "source": [
    "num=input('nums?')\n",
    "nums=num.split(' ')\n",
    "mx=-999\n",
    "for i in nums:\n",
    "    if int(i) > int(mx):\n",
    "        mx=i\n",
    "print('max=',mx)\n",
    "    "
   ]
  },
  {
   "cell_type": "code",
   "execution_count": null,
   "id": "1c810fa9",
   "metadata": {},
   "outputs": [],
   "source": [
    "text=input('문자열 입력: ')\n",
    "\n",
    "def enc(text,key):\n",
    "    text=text.strip()\n",
    "    texts=text.split(\" \")\n",
    "    ntext=''\n",
    "    for i in range(len(texts),0,-1):\n",
    "        word=texts[i-1]\n",
    "        for j in range(len(word),0,-1):\n",
    "            ntext+=chr(ord(word[j-1])+key)\n",
    "        if(i!=1):\n",
    "            ntext+='!'\n",
    "    return ntext\n",
    "\n",
    "def dnc(text,key):\n",
    "    texts=text.split('!')\n",
    "    ntext=''\n",
    "    for i in range(len(texts),0,-1):\n",
    "        word=texts[i-1]\n",
    "        for j in range(len(word),0,-1):\n",
    "            ntext+=chr(ord(word[j-1])-key)\n",
    "        if(i!=1):\n",
    "            ntext+=' '\n",
    "    return ntext\n",
    "    \n",
    "\n",
    "    \n",
    "key=1\n",
    "text=enc(text,key)\n",
    "print(text)\n",
    "print(dnc(text,key))"
   ]
  },
  {
   "cell_type": "code",
   "execution_count": 1,
   "id": "557a9488",
   "metadata": {},
   "outputs": [
    {
     "name": "stdout",
     "output_type": "stream",
     "text": [
      "파이썬 2\n",
      "파일 2\n",
      "읽기 2\n",
      "예제입니다. 2\n",
      "다양한 1\n",
      "메소드를 1\n",
      "공부해 1\n",
      "보세요. 1\n",
      "실력이 1\n",
      "팍팍 1\n",
      "늘 1\n",
      "거에요~ 1\n",
      "단어 1\n",
      "수를 1\n",
      "카운트하는 1\n",
      "실습 1\n"
     ]
    }
   ],
   "source": [
    "f=open('readme.txt','r',encoding='cp949')\n",
    "dic={}\n",
    "\n",
    "while True:\n",
    "    line=f.readline()\n",
    "    if not line: break\n",
    "    line=line.strip()\n",
    "    words=line.split(' ')\n",
    "    for i in words:\n",
    "        if i in dic:\n",
    "            dic[i]+=1\n",
    "        else:\n",
    "            dic[i]=1\n",
    "f.close()\n",
    "for i in dic:\n",
    "    print(i,dic[i])\n",
    "    "
   ]
  },
  {
   "cell_type": "code",
   "execution_count": null,
   "id": "b4a4ec84",
   "metadata": {},
   "outputs": [],
   "source": [
    "class point:\n",
    "    def __init__(self,x=0,y=0):\n",
    "        self.x=x\n",
    "        self.y=y\n",
    "    def move(self,dx,dy):\n",
    "        self.x+=dx\n",
    "        self.y+=dy\n",
    "    def show(self):\n",
    "        print(\"(\",self.x,',',self.y,')')\n",
    "class box:\n",
    "     def __init__(self,p1,p2):\n",
    "        self.p1=p1\n",
    "        self.p2=p2\n",
    "     def move(self,dx,dy):\n",
    "        print(\"각 포인트를 ({0:d},{1:d})만큼 이동시킵니다.\".format(dx,dy))\n",
    "        self.p1.move(dx,dy)       \n",
    "        self.p2.move(dx,dy)\n",
    "     def show(self):\n",
    "        print(\"leftTop=({0:d},{1:d})\\nrightBot=({2:d},{3:d})\".format(self.p1.x,self.p1.y,self.p2.x,self.p2.y))\n",
    "        \n",
    "\n",
    "p1=point(1,2)\n",
    "p2=point(2,3)\n",
    "p1.move(2,3)\n",
    "b1=box(p1,p2)\n",
    "b1.move(2,5)\n",
    "b1.show()\n",
    "p1.show()    "
   ]
  },
  {
   "cell_type": "code",
   "execution_count": null,
   "id": "cca965af",
   "metadata": {},
   "outputs": [],
   "source": [
    "import csv\n",
    "f=open(\"seoul_weather.csv\",'r',encoding=\"cp949\")\n",
    "data=csv.reader(f)\n",
    "print(next(f))\n",
    "\n",
    "mxil=-999\n",
    "mxildate=''\n",
    "mxweat=-999\n",
    "mxdate=''\n",
    "\n",
    "for row in data:\n",
    "    ilgyo=float(row[4])-float(row[3])\n",
    "    if(ilgyo>mxil):\n",
    "        mxil=ilgyo\n",
    "        mxildate=row[0]\n",
    "    if(float(row[4])>mxweat):\n",
    "        mxweat=float(row[4])\n",
    "        mxdate=row[0]\n",
    "    \n",
    "        \n",
    "    \n",
    "print(mxildate, mxil)\n",
    "print(mxdate,mxweat)"
   ]
  },
  {
   "cell_type": "code",
   "execution_count": null,
   "id": "da59a3c7",
   "metadata": {},
   "outputs": [],
   "source": [
    "import csv\n",
    "f=open(\"subway_fee2.csv\",'r')\n",
    "data=csv.reader(f)\n",
    "print(next(data))\n",
    "\n",
    "mx=[0 for i in range(3)]\n",
    "mxsta=[0 for i in range(3)]\n",
    "mn=[0 for i in range(3)]\n",
    "mnsta=[0 for i in range(3)]\n",
    "b=''\n",
    "a=''\n",
    "for row in data:\n",
    "    if row[1]!=a:\n",
    "        if mx[0]!=0:\n",
    "            for i in range(0,3):\n",
    "                print(b,'.%s %s%d%s'%(mxsta[i],'(',mx[i],')'))  \n",
    "                mx[i]=0\n",
    "        print()                  \n",
    "    ride=int(row[4].replace(',',''))\n",
    "    out=float(row[5].replace(',',''))\n",
    "    if mx[0]<ride:\n",
    "        mx[0]=ride\n",
    "        mxsta[0]=row[3]\n",
    "        b=row[1]\n",
    "    elif mx[1]<ride:\n",
    "        mx[1]=ride\n",
    "        mxsta[1]=row[3]\n",
    "    elif mx[2]<ride:\n",
    "        mx[2]=ride\n",
    "        mxsta[2]=row[3]\n",
    "    a=row[1]\n"
   ]
  },
  {
   "cell_type": "code",
   "execution_count": null,
   "id": "4bf02e98",
   "metadata": {},
   "outputs": [],
   "source": [
    "import math as m\n",
    "import numpy as np\n",
    "import matplotlib.pyplot as plt\n",
    "\n",
    "arr=np.linspace(-np.pi,np.pi*5,100)\n",
    "ydata=np.sin(arr)\n",
    "plt.plot(arr,ydata)\n",
    "arr_x_co=np.linspace(-np.pi,np.pi*5,num=500)\n",
    "ydata2=np.cos(arr_x_co)\n",
    "plt.plot(arr_x_co,ydata2)\n",
    "plt.legend(['sin','cos'],loc=\"lower right\")\n",
    "plt.xlabel('x line')\n",
    "plt.title('test')\n",
    "\n",
    "plt.show()\n",
    "\n"
   ]
  },
  {
   "cell_type": "code",
   "execution_count": null,
   "id": "15e94bc8",
   "metadata": {},
   "outputs": [],
   "source": [
    "import matplotlib.pyplot as plt\n",
    "import csv\n",
    "f=open(\"seoul.csv\",'r',encoding='cp949')\n",
    "data=csv.reader(f)\n",
    "\n",
    "#월별 최고기온을 박스플롯으로 표시\n",
    "print(next(data))\n",
    "print(next(data))\n",
    "\n",
    "\n",
    "\n",
    "\n",
    "\n",
    "months=[[],[],[],[],[],[],[],[],[],[],[],[]]\n",
    "\n",
    "for row in data:\n",
    "    month=row[0].split('-')[1]\n",
    "    months[int(month)-1].append(float(row[-1]))\n",
    "\n",
    "plt.boxplot(months)\n",
    "plt.show()\n",
    "f.close()"
   ]
  },
  {
   "cell_type": "code",
   "execution_count": null,
   "id": "1687d9ee",
   "metadata": {},
   "outputs": [],
   "source": [
    "import matplotlib.pyplot as plt\n",
    "\n",
    "data=[1,2,3,4]\n",
    "data2=[4,3,1,1]\n",
    "\n",
    "plt.plot(data2,'g^',label='triangle')\n",
    "plt.plot(data,'r.',label='circle')\n",
    "\n",
    "plt.title('plot graph')\n",
    "plt.xlabel('x line')\n",
    "plt.legend(['p1','p2'],loc='center right')\n",
    "plt.show()\n",
    "\n"
   ]
  },
  {
   "cell_type": "code",
   "execution_count": null,
   "id": "ec38c6ca",
   "metadata": {},
   "outputs": [],
   "source": [
    "label=['A','B','C','D']\n",
    "color=['red','blue','green','lime']\n",
    "data=[10,25,32,40]\n",
    "explodes=[0,0.1,0.15,0.05]\n",
    "\n",
    "plt.pie(data,autopct='%.2f%%',labels=label,colors=color,explode=explodes)\n",
    "\n",
    "plt.legend(loc='lower left')\n",
    "plt.show()\n"
   ]
  },
  {
   "cell_type": "code",
   "execution_count": null,
   "id": "5e50946e",
   "metadata": {},
   "outputs": [],
   "source": [
    "sizes=[10,20,30,40]\n",
    "datax=[1,2,3,4]\n",
    "data=[10,40,20,30]\n",
    "colors=[0,1,2,3]\n",
    "plt.scatter(datax,data,sizes,c=colors,cmap='jet')\n",
    "plt.colorbar()\n",
    "plt.show()\n"
   ]
  },
  {
   "cell_type": "code",
   "execution_count": null,
   "id": "688877e6",
   "metadata": {},
   "outputs": [],
   "source": [
    "import math as m\n",
    "from numpy import dot \n",
    "import numpy as np\n",
    "docs=[[1,1,0,1,0,1],[1,1,1,0,1,0],[1,1,0,1,0,0]]\n",
    "query=[1,1,0,0,1,0]\n",
    "\n",
    "xdata=np.arange(3)\n",
    "cossim=[]\n",
    "labels=[]\n",
    "def cos(d,q):\n",
    "    t1=0\n",
    "    t2=0 \n",
    "    t3=0\n",
    "    for i in d:\n",
    "        t1+=i*i\n",
    "    for i in q:\n",
    "        t2+=i*i\n",
    "    t3=m.sqrt(t1)*m.sqrt(t2)\n",
    "    return dot(d,q)/t3\n",
    "\n",
    "for i,doc in enumerate(docs):\n",
    "    cossim.append(cos(doc,query))\n",
    "\n",
    "for i,cos in enumerate(cossim):\n",
    "    labels.append('doc'+str(i)+\"=\"+str(round(cos,2)))\n",
    "\n",
    "plt.title('cosine similarity')\n",
    "plt.bar(xdata,cossim,label=cossim)\n",
    "plt.xticks(xdata,labels)\n",
    "plt.show()\n",
    "\n",
    "        "
   ]
  },
  {
   "cell_type": "code",
   "execution_count": null,
   "id": "da05cac0",
   "metadata": {},
   "outputs": [],
   "source": [
    "import pandas as pd\n",
    "prices=[[1000,25],[280,120],[900,30]]\n",
    "nums=[25,120,30]\n",
    "df=pd.DataFrame(prices,index=['store1','store2','store3'],columns=['unit price','number'])\n",
    "df['total price']=np.product(df,axis=1)\n",
    "display(df)\n",
    "\n",
    "mx=0\n",
    "for i in  df['total price']:\n",
    "    if i>mx: mx=i\n",
    "        \n",
    "\n",
    "display(df[df['total price']==mx])\n",
    "        \n",
    "    \n",
    "\n"
   ]
  },
  {
   "cell_type": "code",
   "execution_count": 23,
   "id": "0ef3276f",
   "metadata": {},
   "outputs": [
    {
     "name": "stdout",
     "output_type": "stream",
     "text": [
      "['행정구역', '2022년04월_총인구수', '2022년04월_세대수', '2022년04월_남자 인구수', '2022년04월_여자 인구수', '2022년04월_남여 비율']\n",
      "['서울특별시 광진구 (1121500000)', '340,396', '169,638', '164,191', '176,205', '          0.93']\n"
     ]
    },
    {
     "data": {
      "image/png": "[encoded data removed]",
      "text/plain": [
       "<Figure size 432x288 with 1 Axes>"
      ]
     },
     "metadata": {
      "needs_background": "light"
     },
     "output_type": "display_data"
    },
    {
     "name": "stdout",
     "output_type": "stream",
     "text": [
      "[-11310, -9664, -7432, -10032, -7967, -13904, -5192, -16699, -10771, -11791, -13339, -8965, -10949, -12699, -13477] [12411, 9853, 7938, 11270, 8081, 14500, 6071, 17786, 11399, 12549, 14563, 9027, 12057, 13662, 15038]\n"
     ]
    }
   ],
   "source": [
    "import csv\n",
    "import matplotlib.pyplot as plt\n",
    "f=open('gender.csv',encoding='cp949')\n",
    "data=csv.reader(f)\n",
    "print(next(data))\n",
    "print(next(data))\n",
    "\n",
    "m=[]\n",
    "fe=[]\n",
    "\n",
    "for row in data: \n",
    "    m.append(-int(row[-3].replace(\",\",\"\")))\n",
    "    fe.append(int(row[-2].replace(\",\",\"\")))\n",
    "    \n",
    "    \n",
    "plt.title('인구 분포 광진구')\n",
    "plt.barh(range(len(m)),m,label='남성')\n",
    "plt.barh(range(len(fe)),fe,label='여성')\n",
    "plt.legend()\n",
    "plt.show()\n",
    "print(m,fe)\n",
    "    \n",
    "\n",
    "\n",
    "\n",
    "f.close()"
   ]
  },
  {
   "cell_type": "code",
   "execution_count": null,
   "id": "3009a9dc",
   "metadata": {},
   "outputs": [],
   "source": []
  },
  {
   "cell_type": "code",
   "execution_count": null,
   "id": "47a222a0",
   "metadata": {},
   "outputs": [],
   "source": [
    "n=int(input('몇명 인가?'))\n",
    "d={}\n",
    "for i in range(0,n):\n",
    "    name=input('이름: ')\n",
    "    num=int(input('번호: '))\n",
    "    d[name]=num\n",
    "while('true'):\n",
    "    f=input('누구의 번호를 찾는가? 종료하고 싶으면 x를 입력하시오')\n",
    "    if f=='x': break\n",
    "    print(f,d[f])"
   ]
  },
  {
   "cell_type": "code",
   "execution_count": null,
   "id": "94fd4674",
   "metadata": {},
   "outputs": [],
   "source": []
  },
  {
   "cell_type": "code",
   "execution_count": null,
   "id": "0deec137",
   "metadata": {},
   "outputs": [],
   "source": []
  }
 ],
 "metadata": {
  "kernelspec": {
   "display_name": "Python 3 (ipykernel)",
   "language": "python",
   "name": "python3"
  },
  "language_info": {
   "codemirror_mode": {
    "name": "ipython",
    "version": 3
   },
   "file_extension": ".py",
   "mimetype": "text/x-python",
   "name": "python",
   "nbconvert_exporter": "python",
   "pygments_lexer": "ipython3",
   "version": "3.9.7"
  }
 },
 "nbformat": 4,
 "nbformat_minor": 5
}
