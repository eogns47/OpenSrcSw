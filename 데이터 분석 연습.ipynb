{
 "cells": [
  {
   "cell_type": "code",
   "execution_count": 25,
   "id": "425073b0",
   "metadata": {},
   "outputs": [
    {
     "name": "stdout",
     "output_type": "stream",
     "text": [
      "35.4\n"
     ]
    }
   ],
   "source": [
    "import csv\n",
    "f=open('seoul.csv','r',encoding='cp949')\n",
    "data=csv.reader(f,delimiter=',')\n",
    "header=next(data)\n",
    "max_temp=-999\n",
    "for row in data:\n",
    "    if row[-1]=='':\n",
    "        row[-1]=-999\n",
    "    row[-1]=float(row[-1])\n",
    "    if row[-1]>max_temp:\n",
    "        max_temp=row[4]  \n",
    "print(max_temp)\n",
    "f.close()"
   ]
  },
  {
   "cell_type": "code",
   "execution_count": 83,
   "id": "48f41132",
   "metadata": {},
   "outputs": [
    {
     "name": "stdout",
     "output_type": "stream",
     "text": [
      "21.632653061224488\n",
      "옥수 경원선\n"
     ]
    }
   ],
   "source": [
    "f2= open('subwayfee.csv','r',encoding='UTF-8')\n",
    "data=csv.reader(f2)\n",
    "a=next(data)\n",
    "\n",
    "mx=0\n",
    "mx_station=\"\"\n",
    "rate=0\n",
    "for row in data:\n",
    "    for i in range(4,8):\n",
    "        row[i]=row[i].replace(\",\",\"\")\n",
    "        row[i]=float(row[i])\n",
    "    if row[6]!=0:\n",
    "        rate=row[4]/row[6]\n",
    "    if rate>mx:\n",
    "        mx=rate\n",
    "        mxstation=row[3]+\" \"+row[1]\n",
    "print(mx)\n",
    "print(mxstation)\n",
    "f2.close()"
   ]
  },
  {
   "cell_type": "code",
   "execution_count": null,
   "id": "6a21aa50",
   "metadata": {},
   "outputs": [],
   "source": []
  },
  {
   "cell_type": "code",
   "execution_count": null,
   "id": "d2ae3c99",
   "metadata": {},
   "outputs": [],
   "source": []
  },
  {
   "cell_type": "code",
   "execution_count": null,
   "id": "5fda8aec",
   "metadata": {},
   "outputs": [],
   "source": []
  }
 ],
 "metadata": {
  "kernelspec": {
   "display_name": "Python 3 (ipykernel)",
   "language": "python",
   "name": "python3"
  },
  "language_info": {
   "codemirror_mode": {
    "name": "ipython",
    "version": 3
   },
   "file_extension": ".py",
   "mimetype": "text/x-python",
   "name": "python",
   "nbconvert_exporter": "python",
   "pygments_lexer": "ipython3",
   "version": "3.9.7"
  }
 },
 "nbformat": 4,
 "nbformat_minor": 5
}
